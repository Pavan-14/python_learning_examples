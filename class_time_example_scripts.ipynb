{
 "cells": [
  {
   "cell_type": "code",
   "execution_count": 23,
   "metadata": {},
   "outputs": [],
   "source": [
    "def computepay(hours,rate):\n",
    "    if hours>40:\n",
    "        return ((40*rate)+((hours-40)*rate*1.5))\n",
    "    else:\n",
    "        return (hours*rate)\n",
    "\n",
    "pay = computepay(45,10)\n",
    "print(\"pay:\",pay)"
   ]
  },
  {
   "cell_type": "code",
   "execution_count": null,
   "metadata": {},
   "outputs": [],
   "source": [
    "def computepay(score):\n",
    "    if score >= 0.9:\n",
    "        print(\"Grade: A\")\n",
    "    elif 0.9> score >= 0.8:\n",
    "        print(\"Grade: B\")\n",
    "    elif 0.8> score >= 0.7:\n",
    "        print(\"Grade: C\")\n",
    "    elif 0.7> score >= 0.6:\n",
    "        print(\"Grade: D\")\n",
    "    else:\n",
    "        print(\"Grade: F\")\n",
    "\n",
    "try:\n",
    "    score = float(input(\"enter your score: \"))\n",
    "    computepay(score)\n",
    "except ValueError as e:\n",
    "    print(e)"
   ]
  },
  {
   "cell_type": "code",
   "execution_count": null,
   "metadata": {},
   "outputs": [],
   "source": [
    "def ask_feeling():\n",
    "    feeling = input(\"Enter your feeling: \\n\")\n",
    "    for session in [\"Morning\",\"Afternoon\",\"Evening\"]:\n",
    "        print(f\"Good {session}!\")\n",
    "        print(\"How are you feeling?\")\n",
    "        if feeling.casefold() == \"bad\".casefold() or feeling.casefold() == \"Not well\".casefold():\n",
    "            print(\"I am very sad to hear that you are felling \"+feeling+\".\")\n",
    "        else:\n",
    "            print(\"I am very happy to hear that you are felling \"+feeling+\".\")\n",
    "\n",
    "ask_feeling()"
   ]
  },
  {
   "cell_type": "code",
   "execution_count": null,
   "metadata": {},
   "outputs": [
    {
     "name": "stdout",
     "output_type": "stream",
     "text": [
      "You are authorized user\n",
      "pavan\n"
     ]
    }
   ],
   "source": [
    "while True:\n",
    "    username = input(\"enter user name:\")\n",
    "    if username.casefold() == \"Pavan\".casefold():\n",
    "        print(\"You are authorized user\")\n",
    "        password = input(\"Enter your Password:\")\n",
    "        print(password)\n",
    "        break"
   ]
  },
  {
   "cell_type": "code",
   "execution_count": null,
   "metadata": {},
   "outputs": [],
   "source": [
    "from statistics import mean\n",
    "\n",
    "number_list = []\n",
    "while True:\n",
    "    try:\n",
    "        number = int(input(\"enter a number: \"))\n",
    "        if str(number).casefold() == \"done\".casefold:\n",
    "            break\n",
    "        number_list.append(number)\n",
    "    except ValueError as e:\n",
    "        print(e)\n",
    "\n",
    "print(mean(number_list))"
   ]
  },
  {
   "cell_type": "code",
   "execution_count": null,
   "metadata": {},
   "outputs": [],
   "source": [
    "# date: 30.01.2023\n",
    "# write a function to find the most common element in the tuple\n",
    "# date: 30.01.2023\n",
    "# write a function to find the most common element in the tuple\n",
    "from collections import Counter\n",
    "\n",
    "def most_common_elements(t):\n",
    "    return [x for x,y in Counter(t).most_common()]\n",
    "    # return [x for x in Counter(t).most_common()]\n",
    "\n",
    "print(most_common_elements((1,2,3,5,4,6,7,1,2,3,5,2,5)))"
   ]
  },
  {
   "cell_type": "code",
   "execution_count": null,
   "metadata": {},
   "outputs": [],
   "source": [
    "# write a function to check if agiven tuple is a palndrome, meaning the elements are the same in reverse order.\n",
    "def is_palindrome(t):\n",
    "    return t == t[::-1]"
   ]
  },
  {
   "cell_type": "code",
   "execution_count": null,
   "metadata": {},
   "outputs": [],
   "source": [
    "# write a function to find the frequency of elements in a tuple , and return a dictionary mapping each element of its frequency\n",
    "def common_element(my_values:tuple):\n",
    "    elements = dict()\n",
    "    for ele in my_values:\n",
    "        val = my_values.count(ele)\n",
    "        elements.update([(ele,val)])\n",
    "    print(elements)\n",
    "values = (1,2,3,5,4,6,7,1,2,3,5,2,5)\n",
    "common_element(values) "
   ]
  },
  {
   "cell_type": "code",
   "execution_count": null,
   "metadata": {},
   "outputs": [],
   "source": [
    "# write a function that takes a tuple as an arrgument and return a new tuple with only the even elements from the original tuple?\n",
    "def common_element(my_values:tuple):\n",
    "    even_elements = my_values[::2]\n",
    "    print(even_elements)\n",
    "        \n",
    "values = (1,2,3,5,4,6,7,1,2,3,5,2,5)\n",
    "common_element(values) "
   ]
  },
  {
   "cell_type": "code",
   "execution_count": null,
   "metadata": {},
   "outputs": [],
   "source": [
    "# write a function to find the repeated elements inside a tuple?\n",
    "def common_element(my_values:tuple):\n",
    "    comm_elements = []\n",
    "    for ele in my_values:\n",
    "        if ele not in comm_elements and my_values.count(ele) > 1:\n",
    "            comm_elements.append(ele)\n",
    "    print(comm_elements)\n",
    "\n",
    "values = (1,2,3,5,4,6,7,1,2,3,5,2,5)\n",
    "common_element(values) \n",
    "\n",
    "# using list comprehension\n",
    "\"\"\"\n",
    "def common_element(my_values:tuple):\n",
    "    # list comprehension\n",
    "    comm_elements = [ele for ele in my_values if my_values.count(ele) > 1]         \n",
    "    print(comm_elements)\n",
    "\n",
    "values = (1,2,3,5,4,6,7,1,2,3,5,2,5)\n",
    "common_element(values) \n",
    "\"\"\""
   ]
  },
  {
   "attachments": {},
   "cell_type": "markdown",
   "metadata": {},
   "source": [
    "# File Handling"
   ]
  },
  {
   "cell_type": "code",
   "execution_count": null,
   "metadata": {},
   "outputs": [],
   "source": [
    "'''the goal is to read text file into upper cases'''\n",
    "# trying to open the file\n",
    "# the user enters the path. it trys to open the file in read text file mode.\n",
    "# if the file not available, exception gives a error message\n",
    "def file_read(filepath:str):\n",
    "    try:\n",
    "       with open(filepath,\"rt\") as file:\n",
    "            print(file.read().upper())\n",
    "    except FileNotFoundError as e:\n",
    "        print(e)\n",
    "\n",
    "path = input(\"enter your file path with the extension: \\n\")\n",
    "file_read(path)"
   ]
  },
  {
   "cell_type": "code",
   "execution_count": null,
   "metadata": {},
   "outputs": [],
   "source": [
    "'''if the file is demofile.txt don't open the file.\n",
    "    if the file doesn't exist raise an error\n",
    "    if the file other than demofile.txt open the file and read'''\n",
    "\n",
    "import os\n",
    "def file_read(filepath:str):\n",
    "    file_name = os.path.basename(filepath) \n",
    "    # location = os.path.dirname(filepath) \n",
    "    # print(file_name)\n",
    "    # print(location)\n",
    "    if file_name != 'demofile.txt':\n",
    "        try:\n",
    "            with open(filepath,\"rt\") as file:\n",
    "                print(file.read())\n",
    "        except FileNotFoundError as e:\n",
    "            print(e)\n",
    "    else:\n",
    "        print(\"the file demofile.txt is confidential\")\n",
    "\n",
    "path = input(\"enter your file path with the extension: \\n\")\n",
    "file_read(path)\n",
    "\n",
    "\n",
    "'''\n",
    "# code for reference\n",
    "chooseFile = input(\"Enter the file name: \")\n",
    "try:\n",
    "    if chooseFile == 'demofile.txt':\n",
    "        print(\"I JUST DON'T FEEL LIKE OPENING THE FILE!\")\n",
    "except:\n",
    "    print(\"File not found.\")\n",
    "    exit()\n",
    "'''"
   ]
  },
  {
   "cell_type": "code",
   "execution_count": null,
   "metadata": {},
   "outputs": [],
   "source": [
    "'''read the file then put into a list''' \n",
    "def file_read(filepath:str):\n",
    "    try:\n",
    "       with open(filepath,\"rt\") as file:\n",
    "            print(file.read().split())\n",
    "    except FileNotFoundError as e:\n",
    "        print(e)\n",
    "\n",
    "path = input(\"enter your file path with the extension: \\n\")\n",
    "file_read(path)\n"
   ]
  },
  {
   "cell_type": "code",
   "execution_count": null,
   "metadata": {},
   "outputs": [],
   "source": [
    "# 31/01/2023\n",
    "# i have mdox-short.txt file and the file contains the email sender and reciever informations along with email data\n",
    "def email_sender(file_name):\n",
    "    # output_file = open(r\"E:\\Pavan Learnings\\Braineest\\week_03\\sender.txt\",\"wt\")\n",
    "    output_file_path = r\"E:\\Pavan Learnings\\Braineest\\week_03\\sender.txt\"\n",
    "    try:\n",
    "        with open(file_name,\"rt\") as file:\n",
    "            with open(output_file_path,\"wt\") as output_file:\n",
    "                for line in file:\n",
    "                    if line.startswith('From '):\n",
    "                        line = line.rstrip().split()\n",
    "                        output_file.writelines(\"Sender: \" +line[1]+\"\\n\")\n",
    "    except:\n",
    "        print(\"The file not existed in a specified path\")\n",
    "\n",
    "    # finally:\n",
    "         # output_file.close()\n",
    "\n",
    "file_path = r\"E:\\Pavan Learnings\\Braineest\\week_03\\mbox-short.txt\"\n",
    "email_sender(file_path)\n",
    "\n",
    "\n",
    "# different way\n",
    "\"\"\"\n",
    "filename = input(\"Enter file name: \")\n",
    "try:\n",
    "    with open(filename, 'r') as f:\n",
    "        count = 0\n",
    "        for line in f:\n",
    "            if line.startswith(\"From \"):\n",
    "                words = line.split()\n",
    "                print(\"Sender:\", words[1])\n",
    "                count += 1\n",
    "        print(\"Total number of lines:\", count)\n",
    "except FileNotFoundError:\n",
    "    print(\"File not found\")\n",
    "\"\"\"\n"
   ]
  },
  {
   "cell_type": "code",
   "execution_count": null,
   "metadata": {},
   "outputs": [],
   "source": [
    "# to extract the number of email in paticualr day of week\n",
    "def email_sender(file_name:str):\n",
    "    weekday = dict()\n",
    "    try:\n",
    "        with open(file_name,\"rt\") as file:\n",
    "\n",
    "            for line in file:\n",
    "                if line.startswith('From '):\n",
    "                    line = line.rstrip().split()\n",
    "                    if line[2] not in weekday:\n",
    "                        weekday[line[2]] = 1\n",
    "                    else:\n",
    "                        weekday[line[2]] += 1 \n",
    "            print(weekday)\n",
    "                        \n",
    "    except:\n",
    "        print(\"The file not existed in a specified path\")\n",
    "\n",
    "file_path = \"E:\\\\Pavan Learnings\\\\Braineest\\\\week_03\\\\mbox-short.txt\"\n",
    "email_sender(file_path)\n",
    "\n",
    "\n",
    "\n",
    "# different way\n",
    "\"\"\"\n",
    "d = dict()                      \n",
    "fname = 'mbox-short.txt'\n",
    "fhand = open(fname)\n",
    "for line in fhand:\n",
    "    words = line.split()\n",
    "    if len(words) < 3 or words[0] != 'From': continue\n",
    "    else:\n",
    "        if words[2] not in d:\n",
    "            d[words[2]] = 1       \n",
    "        else:\n",
    "            d[words[2]] += 1      \n",
    "\n",
    "print(d)\n",
    "\"\"\""
   ]
  },
  {
   "attachments": {},
   "cell_type": "markdown",
   "metadata": {},
   "source": [
    "# Set datatype"
   ]
  },
  {
   "cell_type": "code",
   "execution_count": null,
   "metadata": {},
   "outputs": [],
   "source": [
    "# adding prime nubers to set from a list\n",
    "def prime_numbers(elements:list):\n",
    "    prime_set = set()\n",
    "    \n",
    "    for ele in elements:\n",
    "        count = 0\n",
    "        for i in range(1,ele):\n",
    "            if ele%i == 0:\n",
    "                count += 1\n",
    "        if count == 1:\n",
    "            prime_set.add(ele)\n",
    "\n",
    "    print(prime_set)\n",
    "\n",
    "prime_numbers([1,2,3,5,4,7,89,6552,2])\n"
   ]
  },
  {
   "cell_type": "code",
   "execution_count": null,
   "metadata": {},
   "outputs": [],
   "source": [
    "set1 = {1,2,3,4}\n",
    "set2 = {2,4,5,6}\n",
    "set3 = set1.symmetric_difference(set2)\n",
    "print(set3)"
   ]
  },
  {
   "attachments": {},
   "cell_type": "markdown",
   "metadata": {},
   "source": [
    "06/02/2023\n",
    "Decarators"
   ]
  },
  {
   "cell_type": "code",
   "execution_count": null,
   "metadata": {},
   "outputs": [],
   "source": [
    "#Closure\n",
    "def hello_decorator(func):\n",
    "\n",
    "    def inner1():\n",
    "        print(\"Hello, this is before function execution\")\n",
    "\n",
    "        func()\n",
    "\n",
    "        print(\"This is after function execution\")\n",
    "        \n",
    "    return inner1\n",
    "\n",
    "def function_to_be_used():\n",
    "    print(\"This is inside the function !!\")\n",
    "\n",
    "function_to_be_used = hello_decorator(function_to_be_used)\n",
    "\n",
    "function_to_be_used()\n"
   ]
  },
  {
   "cell_type": "code",
   "execution_count": null,
   "metadata": {},
   "outputs": [],
   "source": [
    "def hello_decorator(func):\n",
    "    def inner1(*args, **kwargs):\n",
    "        \n",
    "        print(\"before Execution\")\n",
    "\n",
    "        returned_value = func(*args, **kwargs)\n",
    "        print(\"after Execution\")\n",
    "\n",
    "        return returned_value\n",
    "        \n",
    "    return inner1\n",
    "\n",
    "@hello_decorator\n",
    "def sum_two_numbers(a, b):\n",
    "    print(\"Inside the function\")\n",
    "    return a + b\n",
    "\n",
    "a, b = 1, 2\n",
    "\n",
    "print(\"Sum =\", sum_two_numbers(a, b))\n"
   ]
  },
  {
   "cell_type": "code",
   "execution_count": null,
   "metadata": {},
   "outputs": [],
   "source": [
    "def decor1(func):\n",
    "    def inner():\n",
    "        x = func()\n",
    "        return x * x\n",
    "    return inner\n",
    "\n",
    "def decor2(func):\n",
    "    def inner():\n",
    "        x = func()\n",
    "        return 2 * x\n",
    "    return inner\n",
    "\n",
    "@decor1\n",
    "@decor2\n",
    "def num():\n",
    "    return 2\n",
    "\n",
    "@decor2\n",
    "@decor1\n",
    "def num2():\n",
    "    return 2\n",
    "\n",
    "print(num())\n",
    "print(num2())"
   ]
  },
  {
   "attachments": {},
   "cell_type": "markdown",
   "metadata": {},
   "source": [
    "write a function named greet(func)\n",
    "\n",
    "inside greet(func) create another function that does the following:\n",
    "\t1. print something\n",
    "\t2. a variable that uses func to access different arguments (*args)\n",
    "\n",
    "define another function called say_hello() which prints something\n",
    "and by calling say_hello() at the end, also the greet(func) should be\n",
    "provoked.\n"
   ]
  },
  {
   "cell_type": "code",
   "execution_count": null,
   "metadata": {},
   "outputs": [],
   "source": [
    "def greet(func):\n",
    "    def wrapper(*args, **kwargs):\n",
    "        print(\"Hello, this is the greeting decorator!\")\n",
    "        result = func(*args, **kwargs)\n",
    "        return result\n",
    "    return wrapper\n",
    "\n",
    "@greet\n",
    "def say_hello():\n",
    "    print(\"Hello, this is the say_hello function!\")\n",
    "\n",
    "say_hello()"
   ]
  },
  {
   "attachments": {},
   "cell_type": "markdown",
   "metadata": {},
   "source": [
    "write a function called authorize(func)\n",
    "define a wrapper (func inside another func) inside and return\n",
    "\"Unathorized access\" if not authorized.\n",
    "define another function to check whether authorized or not. (True or False)\n",
    "define the last function named secret_data() \n",
    "to say \"This is confidential data\" if user is authorized.\n",
    "By calling secret_data you should see if the data is confidential or \n",
    "you will provoke the other function that says \"Unauthorized access\""
   ]
  },
  {
   "cell_type": "code",
   "execution_count": null,
   "metadata": {},
   "outputs": [],
   "source": [
    "def authorize(func):\n",
    "    def wrapper(*args, **kwargs):\n",
    "        if not is_authorized():\n",
    "            return \"Unauthorized access\"\n",
    "        return func(*args, **kwargs)\n",
    "    return wrapper\n",
    "\n",
    "def is_authorized():\n",
    "    # implement your own authorization logic\n",
    "    return True\n",
    "\n",
    "@authorize\n",
    "def secret_data():\n",
    "    return \"This is confidential data\"\n",
    "\n",
    "print(secret_data())\n",
    "\n",
    "\"\"\"\n",
    "    \n",
    "def authorize(func):\n",
    "    def wrapper(*args,**kwargs):\n",
    "        if not is_auth(*args):\n",
    "            return \"Unathorized access\"\n",
    "        x = func(*args,**kwargs)\n",
    "        return x\n",
    "    return wrapper\n",
    "\n",
    "def is_auth(user: str):\n",
    "    if user==\"pavan\":\n",
    "        return True\n",
    "    \n",
    "@authorize\n",
    "def secret_data(user: str):\n",
    "   return \"This is confidential data\"\n",
    "\n",
    "print(secret_data(\"pavan\"))\n",
    "print(secret_data(\"avan\"))\n",
    "\n",
    "\"\"\""
   ]
  },
  {
   "attachments": {},
   "cell_type": "markdown",
   "metadata": {},
   "source": [
    "\"\"\"\n",
    "write a function called validate(func), define a wrapper inside,\n",
    "see if arguments were not integer, return and error.\n",
    "define a function called add(a, b).\n",
    "when calling the func add in the end, if the args are integers return \n",
    "the sum, if even one of them in str, return that error you defined in the\n",
    "first function.\n",
    "\"\"\""
   ]
  },
  {
   "cell_type": "code",
   "execution_count": null,
   "metadata": {},
   "outputs": [],
   "source": [
    "def validate(func):\n",
    "    def wrapper(*args, **kwargs):\n",
    "        for arg in args:\n",
    "            if not isinstance(arg, int):\n",
    "                return \"Invalid argument type\"\n",
    "        return func(*args, **kwargs)\n",
    "    return wrapper\n",
    "\n",
    "@validate\n",
    "def add(a, b):\n",
    "    return a + b\n",
    "\n",
    "print(add(3, 4))\n",
    "print(add(3, '4'))"
   ]
  },
  {
   "cell_type": "code",
   "execution_count": null,
   "metadata": {},
   "outputs": [],
   "source": [
    "\n",
    "# generators\n",
    "\n",
    "\"\"\"10 prime numbers\"\"\"\n",
    "def is_prime(num):\n",
    "    if num > 1:\n",
    "        for i in range(2, num):\n",
    "            if (num % i) == 0:\n",
    "                return False\n",
    "        return True\n",
    "    return False\n",
    "\n",
    "def prime_numbers(n):\n",
    "    num = 2\n",
    "    count = 0\n",
    "    while count < n:\n",
    "        if is_prime(num):\n",
    "            yield num\n",
    "            count += 1\n",
    "        num += 1\n",
    "\n",
    "\n",
    "prime_generator = prime_numbers(10)\n",
    "print(list(prime_generator))\n"
   ]
  },
  {
   "cell_type": "code",
   "execution_count": null,
   "metadata": {},
   "outputs": [],
   "source": [
    "\"\"\"write a function to look into a txt file and if a certain word exists, yield the line.\"\"\"\n",
    "def find_word(file_name, word:str):\n",
    "    with open(file_name, \"r\") as file:\n",
    "        for line in file:\n",
    "            if word in line:\n",
    "                yield line\n",
    "\n",
    "result = find_word(r'E:\\Pavan Learnings\\Braineest\\week_03\\romeo.txt','sun')\n",
    "print(next(result))"
   ]
  },
  {
   "attachments": {},
   "cell_type": "markdown",
   "metadata": {},
   "source": [
    "### list comprehension"
   ]
  },
  {
   "cell_type": "code",
   "execution_count": null,
   "metadata": {},
   "outputs": [],
   "source": [
    "#07/02/2023\n",
    "\n",
    "def list_ele(ele):\n",
    "    new_list = []\n",
    "    [new_list.extend(i) for i in ele]\n",
    "    print(new_list)\n",
    "\n",
    "list_ele([[1,2,3],[4,5,6],[7,8,9]])"
   ]
  },
  {
   "cell_type": "code",
   "execution_count": null,
   "metadata": {},
   "outputs": [],
   "source": [
    "# use a list comprehension to extract speific elements from a list of dictionaries\n",
    "\n"
   ]
  },
  {
   "cell_type": "code",
   "execution_count": null,
   "metadata": {},
   "outputs": [],
   "source": [
    "# cartesian product:\n",
    "\n",
    "# list1 = [1, 2, 3]\n",
    "# list2 = ['a', 'b', 'c']\n",
    "\n",
    "# Output: [(1, 'a'), (1, 'b'), (1, 'c'), (2, 'a'), (2, 'b'),(2, 'c'), (3, 'a'), (3, 'b'), (3, 'c')]\n",
    "\n",
    "\n",
    "list1 = [1, 2, 3]\n",
    "list2 = ['a', 'b', 'c']\n",
    "\n",
    "print([[(i,j) for j in list2] for i in list1])"
   ]
  },
  {
   "cell_type": "code",
   "execution_count": null,
   "metadata": {},
   "outputs": [],
   "source": [
    "'''Write a regular expression that matches a date in the format dd/mm/yyyy. \n",
    "For example, the string \"01/01/2021\" should match.'''\n",
    "\n",
    "import re\n",
    "\n",
    "pattern = re.compile(r\"^(0[1-9]|[12][0-9]|3[01])/(0[1-9]|1[0-2])/\\d{4}$\")\n",
    "print(pattern.search('04/06/1997'))"
   ]
  },
  {
   "cell_type": "code",
   "execution_count": null,
   "metadata": {},
   "outputs": [],
   "source": [
    "\"\"\"Write a regular expression that matches a phone number in the format xxx-xxx-xxxx, where x is a digit. \n",
    "For example, the string \"123-456-7890\" should match.\"\"\"\n",
    "import re\n",
    "\n",
    "pattern = re.compile(r\"^\\d{3}-\\d{3}-\\d{4}$\")\n",
    "print(pattern.search('123-456-7891'))"
   ]
  },
  {
   "cell_type": "code",
   "execution_count": null,
   "metadata": {},
   "outputs": [],
   "source": [
    "\"\"\"Write a regular expression that matches a valid email address. \n",
    "For example, the string \"example@example.com\" should match.\"\"\"\n",
    "import re\n",
    "\n",
    "pattern = re.compile(\"^[a-zA-Z0-9\\.\\-_]+@{1}[a-zA-Z0-9]+\\.{1}[a-zA-Z]{2,3}$\")\n",
    "print(pattern.search(\"smth@mail.com\"))"
   ]
  },
  {
   "cell_type": "code",
   "execution_count": null,
   "metadata": {},
   "outputs": [],
   "source": [
    "\"\"\"Write a regular expression that matches a string that starts with a word, followed by one or more whitespace characters, followed by another word. \n",
    "For example, the string \"hello world\" should match.\"\"\"\n",
    "import re\n",
    "\n",
    "pattern = re.compile(r\"\\b\\w+\\b\\s+\\b\\w+\\b\")\n",
    "print(pattern.search(\"Hello All\"))"
   ]
  },
  {
   "cell_type": "code",
   "execution_count": null,
   "metadata": {},
   "outputs": [],
   "source": [
    "\"\"\"Write a regular expression that matches a string that contains a number with exactly two decimal places. \n",
    "For example, the string \"1.23\" should match, but the string \"1.234\" should not match.\"\"\"\n",
    "\n",
    "import re\n",
    "\n",
    "pattern = re.compile(r\"^\\d+\\.\\d{2}$\")\n",
    "print(pattern.search(\"1.25\"))\n",
    "print(pattern.search(\"1.2578\"))"
   ]
  },
  {
   "attachments": {},
   "cell_type": "markdown",
   "metadata": {},
   "source": [
    "### OOPS"
   ]
  },
  {
   "cell_type": "code",
   "execution_count": null,
   "metadata": {},
   "outputs": [],
   "source": [
    "\"\"\"Create methods in a class: In the Person class, add methods like introduce() and greet(). \n",
    "The introduce() method should print a brief introduction about the person and the greet() method should print a friendly greeting.\"\"\"\n",
    "\n",
    "class Person:\n",
    "    def __init__(self,name,profession):\n",
    "        self.name = name\n",
    "        self.profession = profession\n",
    "\n",
    "\n",
    "    def introduce(self):\n",
    "        print(f\"I am {self.name} and am a {self.profession}\")\n",
    "\n",
    "    def greet(self):\n",
    "        print(f\"Welcome {self.name}\")\n",
    "\n",
    "object_1 = Person(\"Pavan\",\"student\")\n",
    "object_1.introduce()\n",
    "object_1.greet()"
   ]
  },
  {
   "cell_type": "code",
   "execution_count": null,
   "metadata": {},
   "outputs": [],
   "source": [
    "\"\"\"\n",
    "Inheritance: Create a subclass called Student that inherits from the Person class. \n",
    "Add a new attribute called university to the Student class and initialize it in the constructor. \n",
    "Also, override the introduce() method to include information about the student's university.\n",
    "\"\"\"\n",
    "\n",
    "\n",
    "class Person:\n",
    "    def __init__(self,name,profession):\n",
    "        self.name = name\n",
    "        self.profession = profession\n",
    "\n",
    "\n",
    "    def introduce(self):\n",
    "        print(f\"I am {self.name} and am a {self.profession}\")\n",
    "\n",
    "    def greet(self):\n",
    "        print(f\"Welcome {self.name}\")\n",
    "\n",
    "class Student(Person):\n",
    "    def __init__(self,name,profession,university):\n",
    "        Person.__init__(self,name,profession)\n",
    "        self.university = university\n",
    "\n",
    "    def introduce(self):\n",
    "        print(f\"I am {self.name} and am a {self.profession}. I am studying in the {self.university}.\")\n",
    "\n",
    "\n",
    "object_1 = Student(\"Pavan\",\"student\",\"Ernst Abbe Fachhochschule Jena\")\n",
    "object_1.introduce()\n",
    "object_1.greet()\n"
   ]
  },
  {
   "cell_type": "code",
   "execution_count": null,
   "metadata": {},
   "outputs": [],
   "source": [
    "\"\"\"Define a class Pet with an attribute called name and a method speak(). Create two subclasses Dog and Cat that inherit from the Pet class. \n",
    "Override the speak() method in the Dog and Cat classes to return a string that is specific to each type of pet.\"\"\"\n",
    "\n",
    "class Pet:\n",
    "    def __init__(self,sound):\n",
    "        self.sound = sound\n",
    "    def speak(self):\n",
    "        pass\n",
    "\n",
    "class Dog(Pet):\n",
    "    def speak(self):\n",
    "        print(f\"sounds like {self.sound}\")\n",
    "\n",
    "class Cat(Pet):\n",
    "    def speak(self):\n",
    "        print(f\"sounds like {self.sound}\")\n",
    "\n",
    "\n",
    "dog_object = Dog(\"Bow Bow...\")\n",
    "dog_object.speak()\n",
    "cat_object = Cat(\"Mewo Mewo...\")\n",
    "cat_object.speak()"
   ]
  },
  {
   "cell_type": "code",
   "execution_count": null,
   "metadata": {},
   "outputs": [],
   "source": [
    "\"\"\"Define a class BankAccount with a class variable bank_name and instance variables account_holder_name, balance. \n",
    "Initialize the class variables in the constructor and add methods like deposit() and withdraw() to perform transactions. \n",
    "Create two instances of the BankAccount class and verify that the class variable is shared among all instances.\"\"\"\n",
    "\n",
    "class BankAcccount:\n",
    "    bank_name = \"deutsch bank\"\n",
    "    def __init__(self, account_holder: str, balance: float):\n",
    "        self.account_holder = account_holder\n",
    "        self.balance = balance\n",
    "\n",
    "    def deposit(self, amount: float):\n",
    "        print(amount,f\"deposited in the {self.bank_name}\")\n",
    "        self.balance = self.balance + amount \n",
    "        return self.balance\n",
    "\n",
    "\n",
    "    def withdraw(self, amount: float):\n",
    "        print(amount,f\"withdrawed in the {self.bank_name}\")\n",
    "        self.balance = self.balance - amount \n",
    "        return self.balance\n",
    "\n",
    "object_1 = BankAcccount(\"pavan\",1000.00)\n",
    "print(object_1.deposit(100.00))\n",
    "print(object_1.withdraw(100.00))\n",
    "\n"
   ]
  },
  {
   "attachments": {},
   "cell_type": "markdown",
   "metadata": {},
   "source": [
    "##### Lambda Functions"
   ]
  },
  {
   "cell_type": "code",
   "execution_count": null,
   "metadata": {},
   "outputs": [],
   "source": [
    "\"\"\"Write a lambda function that takes a list of numbers as input, \n",
    "and returns a new list containing only the positive numbers from the original list.\"\"\"\n",
    "\n",
    "fun_list = [lambda arg=i: arg for i in [1,-2,9,10,-56,12] if i > 0]\n",
    "\n",
    "new_list = []\n",
    "for ele in fun_list:\n",
    "    new_list.append(ele())\n",
    "\n",
    "print(new_list)"
   ]
  },
  {
   "cell_type": "code",
   "execution_count": null,
   "metadata": {},
   "outputs": [],
   "source": [
    "\"\"\"Write a lambda function that takes a list of dictionaries and \n",
    "returns a new list of dictionaries sorted by a specified key.\"\"\"\n",
    "\n",
    "dic_in = [{\"age\":21,\"name\":\"ram\"},{\"age\":24,\"name\":\"Jhon\"},{\"age\":18,\"sam\":\"ram\"}]\n",
    "print(sorted(dic_in, key=lambda t: t[\"age\"]))"
   ]
  },
  {
   "cell_type": "code",
   "execution_count": null,
   "metadata": {},
   "outputs": [],
   "source": [
    "\"\"\"Write a lambda function that takes a string and \n",
    "returns a new string with the first letter of each word capitalized.\"\"\""
   ]
  }
 ],
 "metadata": {
  "kernelspec": {
   "display_name": "Python 3",
   "language": "python",
   "name": "python3"
  },
  "language_info": {
   "codemirror_mode": {
    "name": "ipython",
    "version": 3
   },
   "file_extension": ".py",
   "mimetype": "text/x-python",
   "name": "python",
   "nbconvert_exporter": "python",
   "pygments_lexer": "ipython3",
   "version": "3.8.1"
  },
  "orig_nbformat": 4,
  "vscode": {
   "interpreter": {
    "hash": "870b53fb2cb860db5c2b8a38e7e79e828d8bf73627d0878fbe4797c9d0e1abe0"
   }
  }
 },
 "nbformat": 4,
 "nbformat_minor": 2
}
