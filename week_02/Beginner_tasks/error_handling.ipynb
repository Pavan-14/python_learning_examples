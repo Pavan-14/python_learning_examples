{
 "cells": [
  {
   "attachments": {},
   "cell_type": "markdown",
   "metadata": {},
   "source": [
    "1. Write a function that takes a list of integers as an argument, and returns the sum of the integers. Use a try-except block to catch any ValueError exceptions that may be raised when attempting to convert a string to an integer."
   ]
  },
  {
   "cell_type": "code",
   "execution_count": 2,
   "metadata": {},
   "outputs": [
    {
     "ename": "NameError",
     "evalue": "name 'a' is not defined",
     "output_type": "error",
     "traceback": [
      "\u001b[1;31m---------------------------------------------------------------------------\u001b[0m",
      "\u001b[1;31mNameError\u001b[0m                                 Traceback (most recent call last)",
      "Cell \u001b[1;32mIn[2], line 8\u001b[0m\n\u001b[0;32m      6\u001b[0m \u001b[39mtry\u001b[39;00m:\n\u001b[0;32m      7\u001b[0m     integer \u001b[39m=\u001b[39m \u001b[39mint\u001b[39m(\u001b[39minput\u001b[39m(\u001b[39m\"\u001b[39m\u001b[39menter an integer: \u001b[39m\u001b[39m\"\u001b[39m))\n\u001b[1;32m----> 8\u001b[0m     a\u001b[39m.\u001b[39mappend(integer)\n\u001b[0;32m      9\u001b[0m \u001b[39mexcept\u001b[39;00m \u001b[39mValueError\u001b[39;00m:\n\u001b[0;32m     10\u001b[0m     \u001b[39mprint\u001b[39m(\u001b[39m\"\u001b[39m\u001b[39menter a integer value\u001b[39m\u001b[39m\"\u001b[39m)\n",
      "\u001b[1;31mNameError\u001b[0m: name 'a' is not defined"
     ]
    }
   ],
   "source": [
    "def sum_of_integer(list_val):\n",
    "    return sum(list_val)\n",
    "\n",
    "while True:\n",
    "    values = []\n",
    "    try:\n",
    "        integer = int(input(\"enter an integer: \"))\n",
    "        a.append(integer)\n",
    "    except ValueError:\n",
    "        print(\"enter a integer value\")\n",
    "\n",
    "    print(sum_of_integer(values))"
   ]
  },
  {
   "attachments": {},
   "cell_type": "markdown",
   "metadata": {},
   "source": [
    "2. Write a function that takes a filename as an argument, and attempts to open the file. Use a try-except block to catch any FileNotFoundError exceptions that may be raised when attempting to open the file. If the file is successfully opened, the function should return the contents of the file."
   ]
  },
  {
   "cell_type": "code",
   "execution_count": 3,
   "metadata": {},
   "outputs": [
    {
     "name": "stdout",
     "output_type": "stream",
     "text": [
      "FTP sample test\n"
     ]
    }
   ],
   "source": [
    "def file_content(filepath):\n",
    "    try:\n",
    "        with open(filepath,\"r\") as file:\n",
    "            print(file.read())\n",
    "    except FileNotFoundError:\n",
    "        print(f\"{filename}not existed in the path\")\n",
    "\n",
    "file_content(r'C:\\Users\\Adapala\\Desktop\\sample_text.txt')"
   ]
  },
  {
   "attachments": {},
   "cell_type": "markdown",
   "metadata": {},
   "source": [
    "3. Write a function that takes a list of strings as an argument, and returns a new list containing only the strings that can be successfully converted to a float. Use a try-except block to catch any ValueError exceptions that may be raised when attempting to convert a string to a float."
   ]
  },
  {
   "cell_type": "code",
   "execution_count": null,
   "metadata": {},
   "outputs": [],
   "source": []
  },
  {
   "attachments": {},
   "cell_type": "markdown",
   "metadata": {},
   "source": [
    "4. Write a function that takes a list of dictionaries as an argument, and returns the value of a specified key from each dictionary. Use a try-except block to catch any KeyError exceptions that may be raised when attempting to access a key that does not exist in a dictionary."
   ]
  },
  {
   "cell_type": "code",
   "execution_count": null,
   "metadata": {},
   "outputs": [],
   "source": []
  },
  {
   "attachments": {},
   "cell_type": "markdown",
   "metadata": {},
   "source": [
    "5. Write a function that takes a list of integers as an argument, and returns the largest integer in the list. Use a try-except block to catch any ValueError exceptions that may be raised when attempting to compare elements that are not integers."
   ]
  },
  {
   "cell_type": "code",
   "execution_count": null,
   "metadata": {},
   "outputs": [],
   "source": []
  }
 ],
 "metadata": {
  "kernelspec": {
   "display_name": "Python 3",
   "language": "python",
   "name": "python3"
  },
  "language_info": {
   "codemirror_mode": {
    "name": "ipython",
    "version": 3
   },
   "file_extension": ".py",
   "mimetype": "text/x-python",
   "name": "python",
   "nbconvert_exporter": "python",
   "pygments_lexer": "ipython3",
   "version": "3.8.1"
  },
  "orig_nbformat": 4,
  "vscode": {
   "interpreter": {
    "hash": "870b53fb2cb860db5c2b8a38e7e79e828d8bf73627d0878fbe4797c9d0e1abe0"
   }
  }
 },
 "nbformat": 4,
 "nbformat_minor": 2
}
