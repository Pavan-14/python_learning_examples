{
 "cells": [
  {
   "attachments": {},
   "cell_type": "markdown",
   "metadata": {},
   "source": [
    "1. This program is supposed to find the largest number in a list of numbers. However, the bug in this program is that the initial value of the \"largest\" variable is set to 0. This means that if the list of numbers only contains numbers that are less than 0, the function will return 0 instead of the largest negative number."
   ]
  },
  {
   "cell_type": "code",
   "execution_count": null,
   "metadata": {},
   "outputs": [],
   "source": [
    "def find_largest(numbers):\n",
    "    largest = 0\n",
    "    for number in numbers:\n",
    "        if number > largest:\n",
    "            largest = number\n",
    "    return largest\n",
    "\n",
    "numbers = [-1,-2,-3,-4]\n",
    "result = find_largest(numbers)\n",
    "print(result)"
   ]
  },
  {
   "cell_type": "code",
   "execution_count": 6,
   "metadata": {},
   "outputs": [
    {
     "name": "stdout",
     "output_type": "stream",
     "text": [
      "-1\n"
     ]
    }
   ],
   "source": [
    "# your code here\n",
    "def find_largest(numbers):\n",
    "    largest = numbers[0]\n",
    "    for number in numbers:\n",
    "        if number > largest:\n",
    "            largest = number\n",
    "    return largest\n",
    "\n",
    "numbers = [-1,-2,-3,-4]\n",
    "result = find_largest(numbers)\n",
    "print(result)"
   ]
  },
  {
   "attachments": {},
   "cell_type": "markdown",
   "metadata": {},
   "source": [
    "2. This program is supposed to find the duplicate elements in an array, however there is a bug in this program. The bug is that this program will return duplicate duplicate elements multiple times in the result. For example, if the input array contains 3 duplicate elements of number 3, it will return [3, 3, 3] instead of [3]."
   ]
  },
  {
   "cell_type": "code",
   "execution_count": 18,
   "metadata": {},
   "outputs": [
    {
     "name": "stdout",
     "output_type": "stream",
     "text": [
      "[2, 3, 3, 3]\n"
     ]
    }
   ],
   "source": [
    "def find_duplicates(arr):\n",
    "    result = []\n",
    "    for i in range(len(arr)):\n",
    "        for j in range(i+1, len(arr)):\n",
    "            if arr[i] == arr[j]:\n",
    "                result.append(arr[i])\n",
    "    return result\n",
    "\n",
    "input_arr = [1, 2, 3, 4, 2, 3, 5, 6, 7, 3]\n",
    "output = find_duplicates(input_arr)\n",
    "print(output)"
   ]
  },
  {
   "cell_type": "code",
   "execution_count": 38,
   "metadata": {},
   "outputs": [
    {
     "name": "stdout",
     "output_type": "stream",
     "text": [
      "[2, 3, 3, 3]\n"
     ]
    }
   ],
   "source": [
    "# your code here\n",
    "def find_duplicates(arr):\n",
    "    result = []\n",
    "    for i in range(len(arr)):\n",
    "        for j in range(i+1, len(arr)):\n",
    "            if arr[i] == arr[j]:\n",
    "                result.append(arr[i])\n",
    "    return result\n",
    "\n",
    "input_arr = [1, 2, 3, 4, 2, 3, 5, 6, 7, 3]\n",
    "output = find_duplicates(input_arr)\n",
    "print(output)"
   ]
  },
  {
   "attachments": {},
   "cell_type": "markdown",
   "metadata": {},
   "source": [
    "3. This program is supposed to divide two numbers, however there is a bug in this program. The bug is that this program will raise a ZeroDivisionError when the denominator is zero."
   ]
  },
  {
   "cell_type": "code",
   "execution_count": 23,
   "metadata": {},
   "outputs": [
    {
     "ename": "ZeroDivisionError",
     "evalue": "division by zero",
     "output_type": "error",
     "traceback": [
      "\u001b[1;31m---------------------------------------------------------------------------\u001b[0m",
      "\u001b[1;31mZeroDivisionError\u001b[0m                         Traceback (most recent call last)",
      "Cell \u001b[1;32mIn[23], line 4\u001b[0m\n\u001b[0;32m      1\u001b[0m \u001b[39mdef\u001b[39;00m \u001b[39mdivide\u001b[39m(x, y):\n\u001b[0;32m      2\u001b[0m     \u001b[39mreturn\u001b[39;00m x\u001b[39m/\u001b[39my\n\u001b[1;32m----> 4\u001b[0m result \u001b[39m=\u001b[39m divide(\u001b[39m5\u001b[39;49m, \u001b[39m0\u001b[39;49m)\n\u001b[0;32m      5\u001b[0m \u001b[39mprint\u001b[39m(result)\n",
      "Cell \u001b[1;32mIn[23], line 2\u001b[0m, in \u001b[0;36mdivide\u001b[1;34m(x, y)\u001b[0m\n\u001b[0;32m      1\u001b[0m \u001b[39mdef\u001b[39;00m \u001b[39mdivide\u001b[39m(x, y):\n\u001b[1;32m----> 2\u001b[0m     \u001b[39mreturn\u001b[39;00m x\u001b[39m/\u001b[39;49my\n",
      "\u001b[1;31mZeroDivisionError\u001b[0m: division by zero"
     ]
    }
   ],
   "source": [
    "def divide(x, y):\n",
    "    return x/y\n",
    "\n",
    "result = divide(5, 0)\n",
    "print(result)"
   ]
  },
  {
   "cell_type": "code",
   "execution_count": 26,
   "metadata": {},
   "outputs": [
    {
     "name": "stdout",
     "output_type": "stream",
     "text": [
      "division by zero\n",
      "None\n"
     ]
    }
   ],
   "source": [
    "# your code here\n",
    "def divide(x, y):\n",
    "    try:\n",
    "        return x/y\n",
    "    except ZeroDivisionError as e:\n",
    "        print(e)\n",
    "\n",
    "result = divide(5, 0)\n",
    "print(result)"
   ]
  },
  {
   "attachments": {},
   "cell_type": "markdown",
   "metadata": {},
   "source": [
    "4. This program is supposed to iterate through a list and print each element, however there is a bug in this program. The bug is that after the first iteration, the `data.pop(i)` command will remove the item at index `i` from the list, which will cause the list to change its size, but the variable `i` will still increment, this will cause the loop to skip an element in the list and print the wrong results."
   ]
  },
  {
   "cell_type": "code",
   "execution_count": 27,
   "metadata": {},
   "outputs": [
    {
     "name": "stdout",
     "output_type": "stream",
     "text": [
      "item1\n",
      "item3\n"
     ]
    },
    {
     "ename": "IndexError",
     "evalue": "list index out of range",
     "output_type": "error",
     "traceback": [
      "\u001b[1;31m---------------------------------------------------------------------------\u001b[0m",
      "\u001b[1;31mIndexError\u001b[0m                                Traceback (most recent call last)",
      "Cell \u001b[1;32mIn[27], line 3\u001b[0m\n\u001b[0;32m      1\u001b[0m data \u001b[39m=\u001b[39m [\u001b[39m\"\u001b[39m\u001b[39mitem1\u001b[39m\u001b[39m\"\u001b[39m, \u001b[39m\"\u001b[39m\u001b[39mitem2\u001b[39m\u001b[39m\"\u001b[39m, \u001b[39m\"\u001b[39m\u001b[39mitem3\u001b[39m\u001b[39m\"\u001b[39m]\n\u001b[0;32m      2\u001b[0m \u001b[39mfor\u001b[39;00m i \u001b[39min\u001b[39;00m \u001b[39mrange\u001b[39m(\u001b[39mlen\u001b[39m(data)):\n\u001b[1;32m----> 3\u001b[0m     \u001b[39mprint\u001b[39m(data[i])\n\u001b[0;32m      4\u001b[0m     data\u001b[39m.\u001b[39mpop(i)\n",
      "\u001b[1;31mIndexError\u001b[0m: list index out of range"
     ]
    }
   ],
   "source": [
    "data = [\"item1\", \"item2\", \"item3\"]\n",
    "for i in range(len(data)):\n",
    "    print(data[i])\n",
    "    data.pop(i)"
   ]
  },
  {
   "cell_type": "code",
   "execution_count": 29,
   "metadata": {},
   "outputs": [
    {
     "name": "stdout",
     "output_type": "stream",
     "text": [
      "item1\n",
      "item2\n",
      "item3\n"
     ]
    }
   ],
   "source": [
    "# your code here\n",
    "data = [\"item1\", \"item2\", \"item3\"]\n",
    "for i in range(len(data)):\n",
    "    print(data[i])\n",
    "    "
   ]
  },
  {
   "attachments": {},
   "cell_type": "markdown",
   "metadata": {},
   "source": [
    "5. This program is supposed to check if a given number is even or odd, however there is a bug in this program. The bug is that the program doesn't handle the case when the number is zero."
   ]
  },
  {
   "cell_type": "code",
   "execution_count": 30,
   "metadata": {},
   "outputs": [
    {
     "name": "stdout",
     "output_type": "stream",
     "text": [
      "even\n"
     ]
    }
   ],
   "source": [
    "def check_even_odd(number):\n",
    "       if number % 2 == 0:\n",
    "        return \"even\"\n",
    "       else:\n",
    "        return \"odd\"\n",
    "\n",
    "result = check_even_odd(0)\n",
    "print(result)\n"
   ]
  },
  {
   "cell_type": "code",
   "execution_count": 33,
   "metadata": {},
   "outputs": [
    {
     "name": "stdout",
     "output_type": "stream",
     "text": [
      "provide value greater than 0\n",
      "None\n"
     ]
    }
   ],
   "source": [
    "# your code here\n",
    "def check_even_odd(number):\n",
    "    if number != 0:\n",
    "        if number % 2 == 0:\n",
    "            return \"even\"\n",
    "        else:\n",
    "            return \"odd\"\n",
    "    else:\n",
    "        print(\"provide value greater than 0\")\n",
    "\n",
    "result = check_even_odd(0)\n",
    "print(result)"
   ]
  }
 ],
 "metadata": {
  "kernelspec": {
   "display_name": "Python 3",
   "language": "python",
   "name": "python3"
  },
  "language_info": {
   "codemirror_mode": {
    "name": "ipython",
    "version": 3
   },
   "file_extension": ".py",
   "mimetype": "text/x-python",
   "name": "python",
   "nbconvert_exporter": "python",
   "pygments_lexer": "ipython3",
   "version": "3.8.1"
  },
  "orig_nbformat": 4,
  "vscode": {
   "interpreter": {
    "hash": "870b53fb2cb860db5c2b8a38e7e79e828d8bf73627d0878fbe4797c9d0e1abe0"
   }
  }
 },
 "nbformat": 4,
 "nbformat_minor": 2
}
